{
 "cells": [
  {
   "cell_type": "code",
   "execution_count": 2,
   "id": "f4f53895-3f3d-46c7-b0b1-7065dd971589",
   "metadata": {},
   "outputs": [
    {
     "name": "stdout",
     "output_type": "stream",
     "text": [
      "[('Virat Kohli', 24936), ('Jack Kallis', 25534), ('Ricky Ponting', 27483), ('Sachin Tendulkar', 34357)]\n"
     ]
    }
   ],
   "source": [
    "# Create a python program to sort the given list of tuples based on integer value using a lambda function.\n",
    "# List of tuples\n",
    "data = [('Sachin Tendulkar', 34357), ('Ricky Ponting', 27483), ('Jack Kallis', 25534), ('Virat Kohli', 24936)]\n",
    "\n",
    "# Sorting the list based on the integer value using a lambda function\n",
    "sorted_data = sorted(data, key=lambda x: x[1])\n",
    "\n",
    "# Printing the sorted list\n",
    "print(sorted_data)\n"
   ]
  },
  {
   "cell_type": "code",
   "execution_count": 3,
   "id": "6dcd077b-2fc5-4b8b-86e0-06a20a56cbc4",
   "metadata": {},
   "outputs": [
    {
     "name": "stdout",
     "output_type": "stream",
     "text": [
      "[1, 4, 9, 16, 25, 36, 49, 64, 81, 100]\n"
     ]
    }
   ],
   "source": [
    "# Write a Python Program to find the squares of all the numbers in the given list of integers using lambda and map functions.\n",
    "\n",
    "# List of integers\n",
    "numbers = [1, 2, 3, 4, 5, 6, 7, 8, 9, 10]\n",
    "\n",
    "# Using map and lambda to find the squares\n",
    "squares = list(map(lambda x: x**2, numbers))\n",
    "\n",
    "# Printing the squares\n",
    "print(squares)\n"
   ]
  },
  {
   "cell_type": "code",
   "execution_count": 4,
   "id": "f7dbdbe3-046f-44b9-b407-e56ca2810972",
   "metadata": {},
   "outputs": [
    {
     "name": "stdout",
     "output_type": "stream",
     "text": [
      "('1', '2', '3', '4', '5', '6', '7', '8', '9', '10')\n"
     ]
    }
   ],
   "source": [
    "# Write a python program to convert the given list of integers into a tuple of strings. Use map and lambda functions\n",
    "\n",
    "# List of integers\n",
    "numbers = [1, 2, 3, 4, 5, 6, 7, 8, 9, 10]\n",
    "\n",
    "# Using map and lambda to convert the list into a tuple of strings\n",
    "strings_tuple = tuple(map(lambda x: str(x), numbers))\n",
    "\n",
    "# Printing the tuple of strings\n",
    "print(strings_tuple)\n"
   ]
  },
  {
   "cell_type": "code",
   "execution_count": 5,
   "id": "714e1066-1fa1-447e-8168-7635b7b8b9ba",
   "metadata": {},
   "outputs": [
    {
     "name": "stdout",
     "output_type": "stream",
     "text": [
      "15511210043330985984000000\n"
     ]
    }
   ],
   "source": [
    "# Write a python program using reduce function to compute the product of a list containing numbers from 1 to 25.\n",
    "from functools import reduce\n",
    "import operator\n",
    "\n",
    "# List containing numbers from 1 to 25\n",
    "numbers = list(range(1, 26))\n",
    "\n",
    "# Using reduce and operator.mul to compute the product\n",
    "product = reduce(operator.mul, numbers)\n",
    "\n",
    "# Printing the product\n",
    "print(product)\n"
   ]
  },
  {
   "cell_type": "code",
   "execution_count": 6,
   "id": "e277e870-8e70-4520-9bb5-2d2d4839613c",
   "metadata": {},
   "outputs": [
    {
     "name": "stdout",
     "output_type": "stream",
     "text": [
      "[6, 60, 90, 120]\n"
     ]
    }
   ],
   "source": [
    "# Write a python program to filter the numbers in a given list that are divisible by 2 and 3 using the filter function.\n",
    "\n",
    "# Given list of numbers\n",
    "numbers = [2, 3, 6, 9, 27, 60, 90, 120, 55, 46]\n",
    "\n",
    "# Using filter and lambda to filter the numbers\n",
    "filtered_numbers = list(filter(lambda x: x % 2 == 0 and x % 3 == 0, numbers))\n",
    "\n",
    "# Printing the filtered numbers\n",
    "print(filtered_numbers)\n"
   ]
  },
  {
   "cell_type": "code",
   "execution_count": 7,
   "id": "3f34fe20-6f00-4543-822c-e701ea3a415b",
   "metadata": {},
   "outputs": [
    {
     "name": "stdout",
     "output_type": "stream",
     "text": [
      "['php', 'aba', 'radar', 'level']\n"
     ]
    }
   ],
   "source": [
    "# Write a python program to find palindromes in the given list of strings using lambda and filter function.\n",
    "\n",
    "# Given list of strings\n",
    "strings = ['python', 'php', 'aba', 'radar', 'level']\n",
    "\n",
    "# Using filter and lambda to filter the palindromes\n",
    "palindromes = list(filter(lambda x: x == x[::-1], strings))\n",
    "\n",
    "# Printing the palindromes\n",
    "print(palindromes)\n"
   ]
  },
  {
   "cell_type": "code",
   "execution_count": null,
   "id": "1f1a98d1-0836-4816-b4e4-9bfcae949bd5",
   "metadata": {},
   "outputs": [],
   "source": []
  }
 ],
 "metadata": {
  "kernelspec": {
   "display_name": "Python 3 (ipykernel)",
   "language": "python",
   "name": "python3"
  },
  "language_info": {
   "codemirror_mode": {
    "name": "ipython",
    "version": 3
   },
   "file_extension": ".py",
   "mimetype": "text/x-python",
   "name": "python",
   "nbconvert_exporter": "python",
   "pygments_lexer": "ipython3",
   "version": "3.10.8"
  }
 },
 "nbformat": 4,
 "nbformat_minor": 5
}
